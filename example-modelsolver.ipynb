{
 "cells": [
  {
   "cell_type": "markdown",
   "metadata": {},
   "source": [
    "# Example of use of **ModelSolver**\n",
    "#### Magnus Kvåle Helliesen, mkh@ssb.no\n",
    "\n",
    "This Notebook shows basic useage of **ModelSolver**.\n",
    "The algorithm analyzes and solves an input-output model used in the Norwegian monthly national accounts with more than 15,500 equations in under a minute for more than 30 months on a laptop computer.\n",
    "\n",
    "To import **ModelSolver** you need the following packages installed:\n",
    "* NumPy\n",
    "* NetworkX\n",
    "* Pandas\n",
    "* SymEngine\n",
    "* Numba\n",
    "* collections\n",
    "* functools\n",
    "* Matplotlib"
   ]
  },
  {
   "cell_type": "markdown",
   "metadata": {},
   "source": [
    "## Load class and initialize class\n",
    "We first load all packages and the model class itself:"
   ]
  },
  {
   "cell_type": "code",
   "execution_count": null,
   "metadata": {},
   "outputs": [],
   "source": [
    "import pandas as pd\n",
    "import model_solver.model_solver as ms\n",
    "\n",
    "%matplotlib inline"
   ]
  },
  {
   "cell_type": "markdown",
   "metadata": {},
   "source": [
    "We define lists of equations and endogenous variables.\n",
    "These are what together *define* a particular **ModelSolver** class instance:"
   ]
  },
  {
   "cell_type": "code",
   "execution_count": null,
   "metadata": {},
   "outputs": [],
   "source": [
    "equations = [\n",
    "    'x1 = a1',\n",
    "    'x2 = a2',\n",
    "    '0.2*x1+0.7*x2 = 0.1*ca+0.8*cb+0.3*i1',\n",
    "    '0.8*x1+0.3*x2 = 0.9*ca+0.2*cb+0.1*i2',\n",
    "    'k1 = k1(-1)+i1',\n",
    "    'k2 = k2(-1)+i2'\n",
    "    ]\n",
    "endogenous = ['x1', 'x2', 'ca', 'cb', 'k1', 'k2']"
   ]
  },
  {
   "cell_type": "markdown",
   "metadata": {},
   "source": [
    "We initiate an instance of **ModelSolver** class called *model*:"
   ]
  },
  {
   "cell_type": "code",
   "execution_count": null,
   "metadata": {},
   "outputs": [],
   "source": [
    "model = ms.ModelSolver(equations, endogenous)"
   ]
  },
  {
   "cell_type": "markdown",
   "metadata": {},
   "source": [
    "We let **ModelSolver** describe the model to us:"
   ]
  },
  {
   "cell_type": "code",
   "execution_count": null,
   "metadata": {},
   "outputs": [],
   "source": [
    "model.describe()"
   ]
  },
  {
   "cell_type": "markdown",
   "metadata": {},
   "source": [
    "We can also inspect all the blocks:"
   ]
  },
  {
   "cell_type": "code",
   "execution_count": null,
   "metadata": {},
   "outputs": [],
   "source": [
    "model.show_blocks()"
   ]
  },
  {
   "cell_type": "markdown",
   "metadata": {},
   "source": [
    "## Solve the model subject to data\n",
    "\n",
    "We make a Pandas DataFrame:"
   ]
  },
  {
   "cell_type": "code",
   "execution_count": null,
   "metadata": {},
   "outputs": [],
   "source": [
    "input_data = pd.DataFrame({'x1': [2,4,1,2],\n",
    "                           'x2': [2,1,2,3],\n",
    "                           'ca': [1,3,4,1],\n",
    "                           'cb': [1,2,1,4],\n",
    "                           'k1': [1,3,4,1],\n",
    "                           'k2': [1,2,1,4],\n",
    "                           'a1': [1,2,4,4],\n",
    "                           'a2': [3,2,3,4],\n",
    "                           'i1': [1,2,4,4],\n",
    "                           'i2': [3,2,3,4]\n",
    "                           },\n",
    "                           index=['2019Q1', '2019Q2', '2020Q3', '2020Q4'])\n",
    "input_data.head()"
   ]
  },
  {
   "cell_type": "markdown",
   "metadata": {},
   "source": [
    "The data contain exogenous variables and initial values for endogenous variables."
   ]
  },
  {
   "cell_type": "markdown",
   "metadata": {},
   "source": [
    "We call the method that solves the model, subject to the data in the DataFrame:"
   ]
  },
  {
   "cell_type": "code",
   "execution_count": null,
   "metadata": {},
   "outputs": [],
   "source": [
    "solution = model.solve_model(input_data)\n",
    "solution.head()"
   ]
  },
  {
   "cell_type": "markdown",
   "metadata": {},
   "source": [
    "We make a graph of some variable showing what block it's in, and what blocks are it's ancestors and decendants."
   ]
  },
  {
   "cell_type": "code",
   "execution_count": null,
   "metadata": {},
   "outputs": [],
   "source": [
    "model.draw_blockwise_graph('ca')"
   ]
  },
  {
   "cell_type": "markdown",
   "metadata": {},
   "source": [
    "## Switch endogenous variables and analyze new model\n",
    "\n",
    "We ask **ModelSolver** to make $x1$ exogenous and $a1$ endogenous:"
   ]
  },
  {
   "cell_type": "code",
   "execution_count": null,
   "metadata": {},
   "outputs": [],
   "source": [
    "model.switch_endo_var(['a1'], ['x1'])"
   ]
  },
  {
   "cell_type": "markdown",
   "metadata": {},
   "source": [
    "We inspect the blocks of this new model:"
   ]
  },
  {
   "cell_type": "code",
   "execution_count": null,
   "metadata": {},
   "outputs": [],
   "source": [
    "model.show_blocks()"
   ]
  },
  {
   "cell_type": "markdown",
   "metadata": {},
   "source": [
    "We make graph plot of the same variable as above showing what block it's in, and what blocks are it's ancestors and decendants.\n",
    "We observe that the graph has changed after swithcing endogenous variables."
   ]
  },
  {
   "cell_type": "code",
   "execution_count": null,
   "metadata": {},
   "outputs": [],
   "source": [
    "model.draw_blockwise_graph('ca')"
   ]
  },
  {
   "cell_type": "code",
   "execution_count": null,
   "metadata": {},
   "outputs": [],
   "source": [
    "model.show_block_vals(5,1)"
   ]
  },
  {
   "cell_type": "code",
   "execution_count": null,
   "metadata": {
    "tags": []
   },
   "outputs": [],
   "source": [
    "model.show_block(2)"
   ]
  }
 ],
 "metadata": {
  "language_info": {
   "codemirror_mode": {
    "name": "ipython"
   },
   "file_extension": ".py",
   "mimetype": "text/x-python",
   "name": "python",
   "nbconvert_exporter": "python"
  }
 },
 "nbformat": 4,
 "nbformat_minor": 4
}
